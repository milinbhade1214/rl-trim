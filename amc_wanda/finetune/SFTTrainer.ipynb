{
 "cells": [
  {
   "cell_type": "markdown",
   "id": "ee58f19d",
   "metadata": {},
   "source": [
    "# Paths"
   ]
  },
  {
   "cell_type": "code",
   "execution_count": 1,
   "id": "4e934fe2",
   "metadata": {
    "ExecuteTime": {
     "end_time": "2024-05-29T14:54:13.741813Z",
     "start_time": "2024-05-29T14:54:13.732904Z"
    }
   },
   "outputs": [],
   "source": [
    "import os\n",
    "os.environ['CUDA_VISIBLE_DEVICES'] = \"0\""
   ]
  },
  {
   "cell_type": "code",
   "execution_count": 2,
   "id": "da02f3d5",
   "metadata": {
    "ExecuteTime": {
     "end_time": "2024-05-29T14:54:15.462203Z",
     "start_time": "2024-05-29T14:54:15.458777Z"
    }
   },
   "outputs": [],
   "source": [
    "model_path = \"/data/home/milinbhade/LLaMa/hf_llama/\"\n",
    "hf_llama_chat_path = \"/data/home/milinbhade/LLaMa/hf_llama_chat/\"\n",
    "\n",
    "datapath = \"/data/home/milinbhade/LLaMa/pretrain_data/alpaca/alpaca-cleaned-dataset\"\n",
    "\n",
    "redpajama_datapath = \"./redpajama/\""
   ]
  },
  {
   "cell_type": "code",
   "execution_count": 3,
   "id": "dd803dd4",
   "metadata": {
    "ExecuteTime": {
     "end_time": "2024-05-29T14:54:18.149172Z",
     "start_time": "2024-05-29T14:54:16.100056Z"
    }
   },
   "outputs": [
    {
     "data": {
      "text/plain": [
       "1"
      ]
     },
     "execution_count": 3,
     "metadata": {},
     "output_type": "execute_result"
    }
   ],
   "source": [
    "import torch\n",
    "torch.cuda.device_count()"
   ]
  },
  {
   "cell_type": "code",
   "execution_count": 4,
   "id": "2e20a28d",
   "metadata": {
    "ExecuteTime": {
     "end_time": "2024-05-29T14:54:18.229978Z",
     "start_time": "2024-05-29T14:54:18.152418Z"
    }
   },
   "outputs": [
    {
     "name": "stdout",
     "output_type": "stream",
     "text": [
      "True\n",
      "False\n"
     ]
    }
   ],
   "source": [
    "print(torch.cuda.is_available())\n",
    "print(torch.cuda.is_bf16_supported())"
   ]
  },
  {
   "cell_type": "code",
   "execution_count": 5,
   "id": "6ec67dc4",
   "metadata": {
    "ExecuteTime": {
     "end_time": "2024-05-29T14:54:18.238467Z",
     "start_time": "2024-05-29T14:54:18.235524Z"
    }
   },
   "outputs": [],
   "source": [
    "# import logging\n",
    "# import os\n",
    "# from contextlib import nullcontext\n",
    "\n",
    "# TRL_USE_RICH = os.environ.get(\"TRL_USE_RICH\", False)\n",
    "\n",
    "# from trl.commands.cli_utils import init_zero_verbose, SFTScriptArguments, TrlParser\n",
    "\n",
    "# if TRL_USE_RICH:\n",
    "#     init_zero_verbose()\n",
    "#     FORMAT = \"%(message)s\"\n",
    "\n",
    "#     from rich.console import Console\n",
    "#     from rich.logging import RichHandler\n",
    "\n",
    "# import torch\n",
    "# from datasets import load_dataset\n",
    "\n",
    "# from tqdm.rich import tqdm\n",
    "# from transformers import AutoTokenizer\n",
    "\n",
    "# from trl import (\n",
    "#     ModelConfig,\n",
    "#     RichProgressCallback,\n",
    "#     SFTConfig,\n",
    "#     SFTTrainer,\n",
    "#     get_peft_config,\n",
    "#     get_quantization_config,\n",
    "#     get_kbit_device_map,\n",
    "# )\n"
   ]
  },
  {
   "cell_type": "markdown",
   "id": "170c9da0",
   "metadata": {
    "ExecuteTime": {
     "end_time": "2024-05-29T08:09:30.201046Z",
     "start_time": "2024-05-29T08:09:30.196834Z"
    }
   },
   "source": [
    "# Imports"
   ]
  },
  {
   "cell_type": "code",
   "execution_count": 6,
   "id": "e54ddf10",
   "metadata": {
    "ExecuteTime": {
     "end_time": "2024-05-29T14:54:23.419348Z",
     "start_time": "2024-05-29T14:54:18.240956Z"
    }
   },
   "outputs": [
    {
     "name": "stderr",
     "output_type": "stream",
     "text": [
      "2024-05-29 20:24:20.572080: I tensorflow/core/platform/cpu_feature_guard.cc:182] This TensorFlow binary is optimized to use available CPU instructions in performance-critical operations.\n",
      "To enable the following instructions: AVX2 FMA, in other operations, rebuild TensorFlow with the appropriate compiler flags.\n",
      "2024-05-29 20:24:21.624322: W tensorflow/compiler/tf2tensorrt/utils/py_utils.cc:38] TF-TRT Warning: Could not find TensorRT\n"
     ]
    }
   ],
   "source": [
    "from transformers import AutoModelForCausalLM, AutoTokenizer\n",
    "from datasets import load_dataset\n",
    "from trl import SFTTrainer, DataCollatorForCompletionOnlyLM\n",
    "\n",
    "# from trl import (\n",
    "#     ModelConfig,\n",
    "#     RichProgressCallback,\n",
    "#     SFTConfig,\n",
    "#     SFTTrainer,\n",
    "#     get_peft_config,\n",
    "#     get_quantization_config,\n",
    "#     get_kbit_device_map,\n",
    "# )"
   ]
  },
  {
   "cell_type": "code",
   "execution_count": null,
   "id": "fd3339e4",
   "metadata": {
    "ExecuteTime": {
     "end_time": "2024-05-29T12:25:28.929547Z",
     "start_time": "2024-05-29T12:25:27.873099Z"
    }
   },
   "outputs": [],
   "source": []
  },
  {
   "cell_type": "code",
   "execution_count": 7,
   "id": "a65efb87",
   "metadata": {
    "ExecuteTime": {
     "end_time": "2024-05-29T14:54:28.015964Z",
     "start_time": "2024-05-29T14:54:23.424365Z"
    }
   },
   "outputs": [
    {
     "name": "stderr",
     "output_type": "stream",
     "text": [
      "/data/home/milinbhade/miniconda3/envs/huggingface/lib/python3.9/site-packages/datasets/load.py:1486: FutureWarning: The repository for togethercomputer/RedPajama-Data-1T-Sample contains custom code which must be executed to correctly load the dataset. You can inspect the repository content at https://hf.co/datasets/togethercomputer/RedPajama-Data-1T-Sample\n",
      "You can avoid this message in future by passing the argument `trust_remote_code=True`.\n",
      "Passing `trust_remote_code=True` will be mandatory to load this dataset from the next major release of `datasets`.\n",
      "  warnings.warn(\n"
     ]
    }
   ],
   "source": [
    "dataset = load_dataset(\"togethercomputer/RedPajama-Data-1T-Sample\", cache_dir=redpajama_datapath)"
   ]
  },
  {
   "cell_type": "code",
   "execution_count": 8,
   "id": "95c83a9c",
   "metadata": {
    "ExecuteTime": {
     "end_time": "2024-05-29T14:54:28.028238Z",
     "start_time": "2024-05-29T14:54:28.018590Z"
    }
   },
   "outputs": [
    {
     "name": "stdout",
     "output_type": "stream",
     "text": [
      "\\section{Introduction}\n",
      "\n",
      "Members of our group have been involved in long-term studies of abundances in  \n",
      "Galactic halo stars. \n",
      "These studies have been designed to address a number of important \n",
      "issues, including: the synthesis mechanisms of \n",
      "the heavy,\n",
      "specifically, neutron capture ($n$-capture) \n",
      "elements, early in the history of the\n",
      "Galaxy; the identities of the earliest stellar generations,\n",
      "the progenitors of the\n",
      "halo stars; the site or sites for the synthesis of the \n",
      "rapid $n$-capture ({\\it i.e.}, $r$-process) material\n",
      "throughout the Galaxy; the Galactic Chemical Evolution (GCE) of\n",
      "the elements; and by employing the abundances of the\n",
      "radioactive elements (Th and U) as \n",
      "chronometers, the ages of the oldest stars, and hence the lower limit\n",
      "on the age of the Galaxy and the Universe. (See \\citealt{truran02},\n",
      "\\citealt{snedencowan03}, \\citealt{cowan04}, and \\citealt{sneden08}\n",
      "for discussions of these related and significant topics.)  \n",
      "\n",
      "In the following paper we review some of the results of our studies,\n",
      "starting with new stellar abundance determinations arising from\n",
      "more accurate laboratory atomic data \n",
      "in \\S II, followed by  abundance comparisons\n",
      "of the\n",
      "lighter and heavier $n$-capture elements in the $r$-process-rich stars \n",
      "in \\S III, with new species  detections in the star BD+17{$^{\\circ}$} 3248 \\\n",
      "and the ubiquitous nature of the $r$-process throughout the\n",
      "Galaxy described in  \n",
      "sections \\S IV \n",
      "and \\S V, respectively. We end with our Conclusions in \\S VI.   \n",
      "\n",
      "\n",
      "\n",
      "\\section{Atomic Data Improvements and Abundance Determinations}\n",
      "\n",
      "Stellar abundance determinations of the $n$-capture elements in \n",
      "Galactic halo stars have become increasingly more accurate \n",
      "over the last decade with typical errors now \n",
      "of less than 10\\% \\citep{sneden08}.\n",
      "Much of that improvement in the precision of the stellar abundances \n",
      "has been due to increasingly more accurate laboratory atomic data. \n",
      "New measurements of the transition probabilities  \n",
      "have been published  for the rare earth elements (REE) and several\n",
      "others, including:\n",
      "La~II \\citep{lawler01a};\n",
      "Ce~II (\\citealt{palmeri00};\n",
      "   and recently transition probabilities for 921 lines for Ce~II,\n",
      "   \\citealt{lawler09});\n",
      "Pr~II \\citep{ivarsson01};\n",
      "Nd~II (transition probabilities for  more than 700\n",
      "   Nd~II lines, \\citealt{denhartog03});\n",
      "Sm~II (\\citealt{xu03};\n",
      "   and recently transition probabilities for more\n",
      "   than 900 Sm~II lines, \\citealt{lawler06});\n",
      "Eu~I, II, and III (\\citealt{lawler01c}; \\citealt{denhartog02});\n",
      "Gd~II \\citep{denhartog06};\n",
      "Tb~II (\\citealt{denhartog01}; \\citealt{lawler01b});\n",
      "Dy~I and II \\citep{wickliffe00};\n",
      "Ho~II \\citep{lawler04};\n",
      "Er~II (transition probabilities for 418\n",
      "lines of Er II, \\citealt{lawler08});\n",
      "Tm~I and II (\\citealt{anderson96}; \\citealt{wickliffe97});\n",
      "Lu~I, II, and III (\\citealt{denhartog98}; \\citealt{quinet99}, \n",
      "   \\citealt{fedchak00});\n",
      "Hf~II \\citep{lawler07};\n",
      "Os~I and II (\\citealt{ivarsson03,ivarsson04}; \\citealt{quinet06});\n",
      "Ir~I and II (\\citealt{ivarsson03,ivarsson04}; \\citealt{xu07});\n",
      "Pt~I \\citep{denhartog05};\n",
      "Au~I and II (\\citealt{fivet06}; \\citealt{biemont07});\n",
      "Pb~I \\citep{biemont00};\n",
      "Th~II \\citep{nilsson02a};\n",
      "U~II \\citep{nilsson02b};\n",
      "and finally  in new, more precise solar and stellar abundances of\n",
      "Pr, Dy, Tm, Yb, and Lu \\citep{sneden09}.\n",
      " \n",
      "These new atomic data have been employed to redetermine the solar \n",
      "and stellar abundances.\n",
      "We show in  Figure~\\ref{f8} (from \\citealt{sneden09})\n",
      "the relative REE, and Hf,   \n",
      "abundances in five $r$-process rich stars:  BD+17{$^{\\circ}$} 3248, \\mbox{CS~22892-052}, \\mbox{CS~31082-001},\n",
      "HD~115444 and HD~221170, \n",
      "where   \n",
      "the abundance distributions have been scaled to the element Eu for\n",
      "these comparisons. Also shown in Figure~\\ref{f8}\n",
      "are two  Solar System $r$-process-only \n",
      "abundance predictions from \\citet{arlandini99} (based upon a \n",
      "stellar model calculation)  and \n",
      "\\citet{simmerer04}   (based upon the ``classical'' $r$-process residual \n",
      "method) that are also matched to the Eu abundances.  \n",
      "What is clear from the figure is that all of the\n",
      "REE abundances---as well as Hf, which is a heavier interpeak element---are \n",
      "in the same relative proportions from \n",
      "star-to-star and with respect to the solar $r$-process abundances.\n",
      "This agreement between the heavier $n$-capture elements and the\n",
      "Solar System $r$-process abundance distribution \n",
      "has been noted in the past (see, {\\it e.g.}, \\citealt{sneden03}), but   \n",
      "the overall agreement has become much more\n",
      "precise, and convincing,  as a result of the new atomic laboratory data.  \n",
      "\n",
      "\n",
      "\\begin{figure*}\n",
      "\\plotone{f8.eps}\n",
      "\\caption{Recent\n",
      "abundance determinations in five $r$-process rich \n",
      "stars, based upon\n",
      "new atomic lab data, compared with two solar system $r$-process only \n",
      "predictions.  The abundances in each star have been normalized to the\n",
      "element Eu. After \\citet{sneden09}.\n",
      "Reproduced by permission of the AAS.\n",
      "}\n",
      "\\label{f8}\n",
      "\\end{figure*}\n",
      "\n",
      "\n",
      "\n",
      "\\section{Abundance Comparisons}\n",
      "\n",
      "We can also compare more comprehensive---not just the \n",
      "REE---elemental abundance determinations for the\n",
      "$r$-process-rich halo stars. This is potentially\n",
      "a more rewarding enterprise, as it can illuminate the complex\n",
      "nucleosynthetic\n",
      "origin of the lightest $n$-capture elements, and can provide new ways of\n",
      "looking at the age of the Galactic halo. \n",
      "\n",
      "\\subsection{Heavy $n$-capture Elements}\n",
      "\n",
      "We show in Figure~\\ref{compnew4} abundance comparisons with extensive \n",
      "elemental  data for\n",
      "10 $r$-process-rich stars\n",
      "(from the top): \n",
      "filled (red) circles, CS~22892-052 \\citep{sneden03,sneden09};\n",
      "filled (green) squares, HD~115444 \\citep{westin00,sneden09,hansen11};\n",
      "filled (purple) diamonds, BD+17{$^{\\circ}$} 3248\\ \\citep{cowan02,roederer10b};\n",
      "(black) stars, CS~31082-001 \\citep{hill02,plez04};\n",
      "solid (turquoise) left-pointing triangles, HD~221170 \\citep{ivans06,sneden09};\n",
      "solid (orange) right-pointing triangles, HE~1523-0901 \\citep{frebel07};\n",
      "(green) crosses, CS~22953-003 \\citep{francois07}; \n",
      "open (maroon) squares, HE~2327-5642 \\citep{mashonkina10};\n",
      "open (brown) circles, CS~29491-069 \\citep{hayek09}; and\n",
      "open (magenta) triangles, HE~1219-0312 \\citep{hayek09}.\n",
      "The abundances of all the stars except \n",
      "\\mbox{CS~22892-052}\\ have been vertically displaced\n",
      "downwards for display purposes.\n",
      "In each case the \n",
      "solid lines are (scaled) solar system $r$-process only predictions from\n",
      "\\citet{simmerer04} that have been matched to the Eu abundances.\n",
      "\n",
      "The figure indicates that for the  ten stars plotted, the\n",
      "abundances of {\\it all} of the heavier stable $n$-capture elements \n",
      "({\\it i.e.}, Ba and above) are \n",
      "consistent with the relative solar system $r$-process abundance distribution \n",
      "(see also \\citealt{sneden09}).\n",
      "Earlier work had demonstrated this agreement for \n",
      "several $r$-process rich stars (where [Eu/Fe] $\\simeq$ 1), including \\mbox{CS~22892-052}, \n",
      "and the addition of still more such $r$-process-rich stars supports that\n",
      "conclusion.\n",
      "\n",
      "\\begin{figure*}\n",
      "    \\centering\n",
      "\\includegraphics[angle=-90,width=7.00in]{compnew4.ps}\n",
      "\\caption{\n",
      "Abundance comparisons between 10 $r$-process rich stars and the Solar \n",
      "System $r$-process values.\n",
      "See text for references.  \n",
      "Adapted from  \\citet{sneden11}.\n",
      "}\n",
      "\\label{compnew4}\n",
      "\\end{figure*}\n",
      "\n",
      "\n",
      "\\subsection{Light $n$-capture Elements}\n",
      "\n",
      "While the heavier $n$-capture elements appear to be consistent with \n",
      "the scaled solar system $r$-process curve, the lighter $n$-capture \n",
      "elements (Z $<$ 56) seem to fall below that same solar curve. \n",
      "One problem in analyzing this region of interest \n",
      "is that there have been relatively few stellar observations of these\n",
      "lighter $n$-capture elements until now.\n",
      "With the limited amount of data it is not yet clear if the pattern\n",
      "is the same from star-to-star for the lighter $n$-capture elements in \n",
      "these $r$-process rich stars. \n",
      "\n",
      "There has been extensive work on trying to understand the \n",
      "synthesis of these elements.\n",
      "Observations of 4 metal-poor $r$-enriched stars\n",
      "by \\citet{crawford98}\n",
      "suggested that Ag (Z = 47) was produced in rough proportion\n",
      "to the heavy elements in stars with $-$2.2~$<$~[Fe/H]~$< -$~1.2.\n",
      "\\citet{wasserburg96} and \\citet{mcwilliam98} pointed out\n",
      "that multiple sources of heavy elements (other than the $s$-process)\n",
      "were required to account for the observed abundances\n",
      "in the solar system and extremely metal-poor stars, respectively.\n",
      "\\citet{travaglio04} quantized this effect, noting that Sr-Zr \n",
      "Solar System abundances\n",
      "could not be totally accounted for from traditional sources, such as \n",
      "the $r$-process, the (main) $s$-process and the weak $s$-process. \n",
      "They suggested that\n",
      "the remaining (missing) abundances---8\\% for Sr to 18\\%  \n",
      "for Y and Zr---came from\n",
      "a light element primary process (LEPP).   \n",
      "Travaglio et al.\\ also noted,\n",
      "``The discrepancy in the $r$-fraction of Sr-Y-Zr between the\n",
      "$r$-residuals method and the \\mbox{CS~22892-052}\\ abundances\n",
      "becomes even larger for elements from Ru to Cd: the weak\n",
      "$s$-process does not contribute to elements from Ru to Cd. As\n",
      "noted [previously], this discrepancy suggests an even\n",
      "more complex multisource nucleosynthetic origin for elements\n",
      "like Ru, Rh, Pd, Ag, and Cd.''\n",
      "\n",
      "\\citet{montes07} extended studies of the LEPP and suggested\n",
      "that a range of $n$-capture elements, perhaps even including heavier \n",
      "elements such as Ba,  might have a contribution\n",
      "from this primary process. (Since, however, Ba in $r$-process \n",
      "rich stars is consistent with  \n",
      "the solar $r$-process abundances, such contributions  \n",
      "for these heavier \n",
      "elements must be quite small.)\n",
      "They noted, in particular, that this LEPP might\n",
      "have been important in  synthesizing the abundances in the $r$-process poor\n",
      "star HD~122563.    \n",
      "\n",
      "Further insight into the (complicated) \n",
      "origin of the lighter $n$-capture elements is \n",
      "provided by the detections of Ge (Z = 32) in a few stars.\n",
      "\\citet{cowan05} noted a correlation of Ge with the\n",
      "iron abundances in the halo\n",
      "stars with $-$3.0~$\\lesssim$~[Fe/H]~$\\lesssim -$1.5,\n",
      "suggesting that the Ge is being produced along with the Fe-group elements \n",
      "at these low metallicities.\n",
      "To produce the protons needed to satisfy \n",
      "such a correlation, a new neutrino ({\\it i.e.}, $\\nu$-p) process that might \n",
      "occur in supernovae was suggested \\citep{frohlich06}.\n",
      "We note that for higher ({\\it i.e.}, at  solar) \n",
      "metallicities,  Ge is considered a neutron-capture element, \n",
      "synthesized in the $r$-process (52\\%) and the $s$-process (48\\%) \n",
      "(Simmerer et al. 2004; Sneden et al. 2008). Thus, there should be \n",
      "a change in the slope  of the Ge abundances from low metallicities to\n",
      "higher metallicities, a behavior  that has not yet been observed.\n",
      "\n",
      "\\begin{figure*}\n",
      "\\centering\n",
      "\\plotone{bdp17.eps}\n",
      "\\caption{$r$-process abundance predictions for light $n$-capture elements\n",
      "compared with observations of  BD+17{$^{\\circ}$} 3248 \\ from \\citet{roederer10b}.\n",
      "See text for further details.} \n",
      "\\label{bdp17}\n",
      "\\end{figure*}\n",
      "\n",
      "We show in  \n",
      "Figure~\\ref{bdp17} several $r$-process predictions for the \n",
      "lighter $n$-capture element abundances compared with observations of \n",
      "those elements in BD+17{$^{\\circ}$} 3248 \\ from \\citet{roederer10b}.\n",
      "The two Solar System $r$-process models (``classical'' and ``stellar model'') \n",
      "reproduce some of these elements but begin to diverge from the \n",
      "observed abundances at Rh (Z = 45). \n",
      "Also shown in \n",
      "Figure~\\ref{bdp17} are predictions from \n",
      "a High Entropy Wind (HEW) model, that might be\n",
      "typical in a core-collapse (or Type II) supernova  (\\citealt{farouqi09};\n",
      "K.-L.~Kratz, private communication.)\n",
      "This model gives a better fit to the abundances, but does not reproduce \n",
      "the observed odd-even effects in Ag (Z = 47)and Cd (Z = 48) in this star\n",
      "(resembling a trend discovered in other \n",
      "$r$-enriched stars by \\citealt{johnson02}).\n",
      "Recent work by \\citet{hansen11} to study Pd (Z = 46) and Ag \n",
      "abundances in stars with $-$3.2~$\\lesssim$~[Fe/H]~$\\lesssim -$0.6\n",
      "confirms the divergence between observations and simulation predictions.\n",
      "\n",
      "These comparisons between calculations and observations do in fact \n",
      "argue for a combination of processes to reproduce \n",
      "the observed stellar abundances of some of these light $n$-capture elements. \n",
      "This combination of processes might include (contributions from) \n",
      "the main $r$-process, the LEPP, the $\\nu$-p process,\n",
      "charged-particle reactions  \n",
      "accompanied by $\\beta$-delayed fission \n",
      "and the weak $r$-process ({\\it e.g.}, \\citealt{kratz07}).\n",
      "(See, {\\it e.g.}, \n",
      "\\citealt{farouqi09,farouqi10}, \\citealt{roederer10a,roederer10b},\n",
      "and \\citealt{arcones11}\n",
      "for further discussion.)\n",
      "It may also be that during the synthesis \n",
      "the main $r$-process  and the LEPP are separate processes,\n",
      "and that the abundance patterns in all metal-poor stars could be\n",
      "reproduced by mixing their yields \\citep{montes07}.\n",
      "Alternatively, it may be  \n",
      "that the $r$-process and the LEPP\n",
      "can be produced in the same events, but sometimes\n",
      "only the lower neutron density components  are present \n",
      "\\citep{kratz07,farouqi09}.\n",
      "It has also been suggested that the  \n",
      "heavier and lighter \n",
      "$n$-capture elements are synthesized in separate sites (see {\\it e.g.}, \n",
      "\\citealt{qian08}). \n",
      "\n",
      "New observations of heavy elements in metal-poor globular cluster\n",
      "stars reaffirm the abundance patterns seen in field stars.\n",
      "In the globular cluster M92, \\citet{roederer11b} found that the \n",
      "observed star-to-star dispersion in Y (Z = 39) and Zr (Z = 40)\n",
      "is the same as for the Fe-group elements ({\\it i.e.}, consistent\n",
      "with observational uncertainty only).\n",
      "Yet, the Ba \\citep{sneden00}, La, Eu, and Ho abundances exhibit \n",
      "significantly larger star-to-star dispersion that cannot be\n",
      "attributed to observational uncertainty alone.\n",
      "Furthermore, the Ba and heavier elements were produced by $r$-process\n",
      "nucleosynthesis without any $s$-process contributions.\n",
      "This indicates that, as in the field stars, \n",
      "these two groups of elements could not have\n",
      "formed entirely in the same nucleosynthetic process in M92.\n",
      "\n",
      "\n",
      "\\section{New Species Detections}\n",
      "\n",
      "\\citet{roederer10b} reanalyzed near-UV spectra obtained with\n",
      "HST/STIS of the \n",
      "star BD+17{$^{\\circ}$} 3248.  \n",
      "(See also \\citealt{cowan02,cowan05} for earlier HST observations of BD+17{$^{\\circ}$} 3248.)\n",
      "We show in \n",
      "Figure~\\ref{f1} (from \\citealt{roederer10b})\n",
      "spectral regions around Os~II and Cd~I lines in the\n",
      "stars BD+17{$^{\\circ}$} 3248, HD~122563 and HD~115444.  There is a clear detection of Os~II\n",
      "in both BD+17{$^{\\circ}$} 3248\\ and HD~115444 but not in HD~122563. The star HD~115444 is \n",
      "similar in metallicity and atmospheric parameters to HD~122563 \n",
      "(see \\citealt{westin00}), but much more \n",
      "$r$-process rich: [Eu/Fe] = 0.7 versus $-$0.5, respectively. \n",
      "In the lower panel of \n",
      "Figure~\\ref{f1} we see the presence of Cd~I in BD+17{$^{\\circ}$} 3248 \\ and HD~115444, as well\n",
      "as a weak detection in HD~122563. \n",
      "Synthetic fits to these spectra in BD+17{$^{\\circ}$} 3248\\ and HD~122563 \n",
      "indicate the presence of \n",
      "Cd~I and Lu~II lines in both stars,\n",
      "as well as the detection (and upper limit of) Os~II in the same \n",
      "two stars, respectively.  \n",
      "This work was\n",
      "the first to detect Cd~I, Lu~II, and Os~II\n",
      "in metal-poor halo stars. \n",
      "\n",
      "\n",
      "\\begin{figure}\n",
      "\\centering\n",
      "\\plotone{f1.eps}\n",
      "\\vskip0pt\n",
      "\\caption{\n",
      "HST (near-UV) \n",
      "spectral regions containing Os~II and Cd~I lines  in BD+17{$^{\\circ}$} 3248,  HD~122563,\n",
      "and HD~115444 from \\citet{roederer10b}.\n",
      "Reproduced by permission of the AAS.\n",
      "}\n",
      "\\label{f1}\n",
      "\\end{figure}\n",
      "\n",
      "\n",
      "\n",
      "In addition to these new detections, \n",
      "\\citet{roederer10b} employed Keck/HIRES spectra   \n",
      "to derive new abundances of Mo I, Ru I and Rh I in this star.  \n",
      "Combining these abundance determinations led to the detection of a total of \n",
      "32 $n$-capture species  ---the most of any metal-poor halo star.\n",
      "(Previously, CS~22892-052 had the most such detections.)\n",
      "Further, we note that \n",
      "the total detections in BD+17{$^{\\circ}$} 3248 \\ did not count the element Ge. \n",
      "And while Ge may be\n",
      "synthesized in proton-rich processes early in the history of the\n",
      "Galaxy,  \n",
      "it is classified as a $n$-capture element in Solar System material\n",
      "(see \\citealt{simmerer04} and \\citealt{cowan05}).\n",
      "We illustrate this total abundance distribution \n",
      "in Figure~\\ref{bdfourthb} compared with the \n",
      "two Solar System $r$-process curves from \\citet{simmerer04} and\n",
      "\\citet{arlandini99}. We again see the close agreement between the heavier\n",
      "$n$-capture elements and (both of) the predictions for  \n",
      "the Solar System $r$-process curve, as well as   \n",
      "the deviation between the abundances of the \n",
      "lighter $n$-capture elements and that \n",
      "same curve. \n",
      "\n",
      "\n",
      "  \\begin{figure*}\n",
      "    \\centering\n",
      "\\vskip 0.55in\n",
      "\\includegraphics[width=5.00in]{bdfourthb.eps}\n",
      "\\vskip 0.35in\n",
      "\\caption{\n",
      "The total observed abundance distribution in BD+17{$^{\\circ}$} 3248. \n",
      "There are a total of 32---not including Ge---detections of $n$-capture elements,\n",
      "the most in any metal-poor halo star. This distribution is \n",
      "compared with the\n",
      "two Solar System $r$-process curves from \\citet{simmerer04} and\n",
      "\\citet{arlandini99}.\n",
      "}\n",
      "\\label{bdfourthb}\n",
      "\\end{figure*}\n",
      "\n",
      "\\section{The $r$-process Throughout the Galaxy}\n",
      "\n",
      "The results of \\citet{roederer10b} also confirm earlier work indicating\n",
      "significant  differences in the abundances between $r$-process rich stars, such\n",
      "as BD+17{$^{\\circ}$} 3248, and $r$-process poor stars, such as HD~122563. \n",
      "This difference is shown clearly in Figure~\\ref{f4}. The abundance \n",
      "distribution for BD+17{$^{\\circ}$} 3248 \\ (shown in the top panel) is relatively flat---compare \n",
      "the abundance of Sr with Ba---and\n",
      "is consistent with the scaled Solar System $r$-process abundances for \n",
      "the heavy $n$-capture elements.  \n",
      "In contrast the lower panel of this figure indicates that the abundances\n",
      "in the $r$-process poor HD~122563 fall off dramatically with increasing\n",
      "atomic number---again compare the abundance of Sr with Ba.    \n",
      "\n",
      "  \\begin{figure*}\n",
      "    \\centering\n",
      "\\includegraphics[width=5.45in]{f4.eps}\n",
      "\\caption{\n",
      "Abundance distributions in BD+17{$^{\\circ}$} 3248\\ and HD~122563 with detections indicated by\n",
      "filled symbols and upper limits by downward-pointing open triangles.\n",
      "The new measurements of Os, Cd, and Lu illustrated in  Figure~\\ref{f1} \n",
      "are labeled.\n",
      "In the top panel (BD+17{$^{\\circ}$} 3248) \n",
      "the bold curve is an HEW calculation from \\citet{farouqi09}\n",
      "normalized to Sr, while the solid line is the Solar System $r$-process \n",
      "curve \\citep{sneden08} normalized to Eu. \n",
      "In the bottom panel (HD~122563) the solar curve is normalized both to Eu \n",
      "(solid line) and\n",
      "Sr (dotted line). \n",
      "Abundances were obtained from \\citet{cowan02,cowan05}, \\citet{honda06},\n",
      "\\citet{roederer09,roederer10b}, and \\citet{sneden09}.\n",
      "Figure from \\citet{roederer10b}.\n",
      "Reproduced by permission of the AAS.\n",
      "}\n",
      "\\label{f4}\n",
      "\\end{figure*}\n",
      "\n",
      "  \\begin{figure*}\n",
      "    \\centering\n",
      "\\includegraphics[angle=-90,width=6.00in]{f11b.eps}\n",
      "\\caption{ \n",
      "Differences between Solar System $r$-process abundances and stellar abundances\n",
      "for 16 metal-poor stars, normalized to Sr. \n",
      "The stars are listed in order of descending [Eu/Fe], and that value and\n",
      "[Sr/Fe] are listed in the box to the  right in the figure. \n",
      "A value for a typical uncertainty is illustrated in the lower left.\n",
      "Note the difference in the abundance pattern between the $r$-process \n",
      "rich star \\mbox{CS~22892-052}\\ and that of HD~122563, with the other stars falling \n",
      "between those extremes.\n",
      "Abundance references are as follows:\n",
      "S.S. $r$-process  abundances \\citep{sneden08};\n",
      "\\mbox{HE~1523-0901} (\\citealt{frebel07} and A.\\ Frebel, \n",
      "2009, private communication);\n",
      "\\mbox{CS~31082-001} \\citep{hill02,plez04,sneden09};\n",
      "\\mbox{CS~22892-052} \\citep{sneden03,sneden09};\n",
      "\\mbox{HE~1219-0312} \\citep{hayek09,roederer09};\n",
      "\\mbox{UMi-COS~82} \\citep{aoki07};\n",
      "\\mbox{CS~31078-018} \\citep{lai08};\n",
      "\\mbox{CS~30306-132} \\citep{honda04};\n",
      "\\mbox{BD$+$17~3248} \\citep{cowan02,sneden09,roederer10b};\n",
      "\\mbox{HD~221170} \\citep{ivans06,sneden09};\n",
      "\\mbox{HD~115444} \\citep{westin00,roederer09,sneden09};\n",
      "\\mbox{HD~175305} \\citep{roederer10c};\n",
      "\\mbox{BD$+$29~2356} \\citep{roederer10c};\n",
      "\\mbox{BD$+$10~2495} \\citep{roederer10c};\n",
      "\\mbox{CS~22891-209} \\citep{francois07};\n",
      "\\mbox{HD~128279} \\citep{roederer10c};\n",
      "\\mbox{HD~13979} (I.\\ Roederer et al., in preparation);\n",
      "\\mbox{CS~29518-051} \\citep{francois07};\n",
      "\\mbox{CS~22873-166} \\citep{francois07};\n",
      "\\mbox{HD~88609} \\citep{honda07};\n",
      "\\mbox{CS~29491-053} \\citep{francois07};\n",
      "\\mbox{HD~122563} \\citep{honda06,roederer10b}; and\n",
      "\\mbox{CS~22949-037} \\citep{depagne02}.\n",
      "Figure from \\citet{roederer10a}.\n",
      "Reproduced by permission of the AAS.\n",
      "}\n",
      "\\label{f11b}\n",
      "\\end{figure*}\n",
      "\n",
      "It is clear from much work \n",
      "({\\it e.g.}, Honda et al. 2006, 2007) that the abundances even in a \n",
      "star such as HD~122563 do come from the \n",
      "$r$-process---the source for the $s$-process, \n",
      "low- or intermediate-mass stars on the AGB with longer evolutionary\n",
      "timescales, have not had sufficient time to evolve prior to the formation\n",
      "of this metal-poor halo star (cf.\\ \\citealt{truran81}).\n",
      "Instead,  one can think of the abundance distribution \n",
      "in HD~122563,  illustrated in Figure~\\ref{f4},  as the result of \n",
      "an ``incomplete $r$-process''---there were not sufficient numbers of \n",
      "neutrons to form all of the heavier $n$-capture elements, \n",
      "particularly the ``third-peak'' elements of Os, Ir, and Pt. \n",
      "In the classical ``waiting point approximation'' the\n",
      "lighter $n$-capture elements are synthesized from lower neutron number \n",
      "density (n$_n$)\n",
      "fluxes, typically 10$^{20}$--10$^{24}$,  with the heavier $n$-capture elements \n",
      "(and the total $r$-process abundance distribution) requiring \n",
      "values of n$_n$ = 10$^{23}$--10$^{28}$ cm$^{-3}$ \n",
      "(see Figures 5 and 6 of \\citealt{kratz07}).\n",
      "Physically in this ``incomplete'' or ``weak $r$-process,''\n",
      "the neutron flux was too low to push the $r$-process ``path''\n",
      "far enough away from the valley of $\\beta$-stability \n",
      "to reach the higher mass numbers after \n",
      "$\\alpha$ and $\\beta$-decays back to stable nuclides.\n",
      "Instead the lower neutron number densities result in the \n",
      "$r$-process path being too close to the valley of stability \n",
      "leading to a diminution in the\n",
      "abundances of the heavier $n$-capture elements. \n",
      "The lighter $n$-capture elements, such as Sr, in this star \n",
      "may have formed as a result of this incomplete or \n",
      "weak $r$-process, or the LEPP,  or combinations as described previously for the \n",
      "$r$-process rich stars.\n",
      "\n",
      "This analysis was extended to a larger sample by \\citet{roederer10a}\n",
      "and is illustrated in Figure~\\ref{f11b}.\n",
      "We show the differences between the abundance distributions of 16  \n",
      "metal-poor stars, normalized to Sr, \n",
      "compared with the Solar System $r$-process distribution \\citep{sneden08}. \n",
      "The stars are plotted in order of descending values of\n",
      "[Eu/Fe], a measure of their $r$-process richness. Thus, we see near the \n",
      "top \\mbox{CS~22892-052}\\ with a value of [Eu/Fe] = 1.6 and near the bottom, HD~122563 with\n",
      "[Eu/Fe] = $-$0.5. The figure illustrates \n",
      " the relative flatness of the distributions of \n",
      "the most $r$-process-rich stars ([Eu/Fe] $\\simeq$ 1) \n",
      "with respect to the solar curves, while the\n",
      "$r$-process poor stars have abundances that fall off sharply with \n",
      "increasing atomic number. \n",
      "It is also clear from Figure~\\ref{f11b} \n",
      "that there are a range of abundance distributions\n",
      "falling between \n",
      "these two extreme examples.  \n",
      "(We note that Figure~\\ref{f11b} should not be taken as an unbiased \n",
      "distribution of stars at low metallicity.)\n",
      "\n",
      "We emphasize four important points here.\n",
      "First, not all of the metal-poor stars  have the same abundance pattern\n",
      "as \\mbox{CS~22892-052}, only those that are $r$-process rich. \n",
      "Second, while the distributions\n",
      "are different between the $r$-process rich and poor stars there \n",
      "is no indication of $s$-process synthesis for these elements. \n",
      "Thus, all of the\n",
      "elements in these stars were synthesized in the $r$-process, at least for\n",
      "the heavier $n$-capture elements, and $r$-process material was common in the\n",
      "early Galaxy.  \n",
      "Third, the approximate downward displacement from the top to the bottom\n",
      "of the Figure~\\ref{f11b} (a measure of the decreasing [Eu/Sr] ratio) \n",
      "roughly scales as the [Eu/Fe] ratio, listed\n",
      "in the right-hand panel.\n",
      "This can be understood as follows: since the abundance patterns are\n",
      "normalized to Sr, and if Sr is roughly proportional to Fe in these stars\n",
      "(with a moderate degree of scatter---cf.\\ Figure~7 of \\citealt{roederer10a}),\n",
      "then {\\it of course} the [Eu/Sr] ratio roughly follows [Eu/Fe].\n",
      "(See also \\citealt{aoki05}.)\n",
      "Finally, we note that Ba has been detected in all of these stars \n",
      "and the vast majority of low-metallicity field and globular cluster stars\n",
      "studied to date.\n",
      "Only in a few Local Group dwarf galaxies do Ba upper limits\n",
      "hint that Ba (and, by inference, all heavier elements) may be\n",
      "extremely deficient or absent\n",
      "\\citep{fulbright04,koch08,frebel10}.\n",
      "\n",
      "\n",
      "\\section{Conclusions}\n",
      "\n",
      "Extensive studies have demonstrated the presence of \n",
      "$n$-capture elements in the atmospheres of\n",
      "metal-poor halo and globular cluster stars. \n",
      "New detections of the $n$-capture elements Cd~I (Z = 48), Lu~II \n",
      "(Z = 71) and Os~II (Z = 76),\n",
      "derived from HST/STIS spectra, \n",
      "have been made in several metal-poor halo stars. \n",
      "These were the first detections of these species in such stars.\n",
      "Supplementing these observations with Keck data \n",
      "and new measurements of  Mo I, Ru I and Rh I,  \n",
      "we reported the detections of 32 $n$-capture \n",
      "elements in BD+17{$^{\\circ}$} 3248. This is currently the most detections of these \n",
      "elements in any metal-poor halo star, supplanting the previous ``champion''\n",
      "\\mbox{CS~22892-052}. \n",
      "\n",
      "Comparisons  among the most \n",
      "$r$-process-rich stars ([Eu/Fe] $\\simeq$ 1) demonstrate that  the heaver  \n",
      "stable elements (from Ba and above) are remarkably consistent from star-to-star \n",
      " and consistent with the (scaled) solar system $r$-process distribution.\n",
      "Detailed comparisons of the REE (along with Hf)  among \n",
      "a well-studied group of $r$-process-rich stars,  employing new\n",
      "experimental atomic data, \n",
      "strongly supports this finding.\n",
      "The newly determined, and lab-based, stellar abundances  are more\n",
      "precise and show very little scatter from star-to-star and with\n",
      "respect to the Solar System $r$-process abundances.\n",
      "This suggests that the $r$-process produced these elements \n",
      "early in the history of the Galaxy and that the same type(s) of process\n",
      "was responsible for the synthesis of the $r$-process elements at the \n",
      "time of the formation of the Solar System.\n",
      "\n",
      "While the heavier elements appear to have formed from the main \n",
      "$r$-process and are\n",
      "apparently consistent with the solar $r$-process abundances, \n",
      "the lighter $n$-capture element abundances in\n",
      "these stars do\n",
      "not conform to the solar pattern.\n",
      "There have been little data in these stars \n",
      "until recently, but now with the new detections \n",
      "of Cd and increasing Pd and Ag detections, some patterns are becoming clear.\n",
      "First, the main $r$-process alone is not responsible for the synthesis of\n",
      "these lighter $n$-capture elements. Instead, other processes, alone or in\n",
      "combination, may have responsible for such formation.\n",
      "These processes include a so-called \n",
      "``weak'' $r$-process (with lower values of n$_n$), the LEPP, \n",
      "the $\\nu$-p process, or charged particle \n",
      "reactions in the HEW of a core-collapse supernova.  \n",
      "It is also not clear whether different processes are responsible for \n",
      "different mass regions with one for Ge, a different one for Sr-Zr and \n",
      "still another for Pd, Ag, and Cd.\n",
      "It is also not clear whether these processes operate separately from \n",
      "each other or in the same site, or whether different mass ranges of \n",
      "the $n$-capture elements are synthesized in different sites.\n",
      "Clearly, much more work needs to be undertaken to understand the\n",
      "formation of these lighter $n$-capture elements.\n",
      "\n",
      "The stellar abundance signatures of the heaviest of these  elements, \n",
      "i.e., Ba and above, are consistent with the rapid neutron\n",
      "capture process, $r$-process, but not the $s$-process in these \n",
      "old stars. Similar conclusions are found for stars in the ancient globular \n",
      "clusters \n",
      "with comparable abundance spreads in the $r$-process elements\n",
      "(see, {\\it e.g.}, \\citealt{gratton04}, \\citealt{sobeck11}, \n",
      "\\citealt{roederer11a}, and \\citealt{roederer11b}).\n",
      "There is also a clear distinction between the abundance patterns of the \n",
      "$r$-process rich stars such as \\mbox{CS~22892-052}\\ and the $r$-process poor stars like\n",
      "HD~122563. The latter seem to have an element pattern that was \n",
      "formed as a result of a ``weak'' or ``incomplete'' $r$-process.\n",
      "Most of the old, metal-poor halo stars have abundance distributions\n",
      "that fall between the extremes of \\mbox{CS~22892-052}\\ and HD~122563. \n",
      "However, the very presence of  \n",
      "$n$-capture elements in the spectra of these stars  \n",
      "argues for $r$-process events being a common occurrence \n",
      "early in the \n",
      "history of\n",
      "the Galaxy. \n",
      "\n",
      "Finally, we note the need for additional stellar observations, \n",
      "particularly of the UV regions of the spectra {\\it only} accessible\n",
      "using STIS or COS aboard HST.   \n",
      "These observations require \n",
      "high signal-to-noise ratios and high resolution to identify faint lines \n",
      "in crowded spectral regions. Also we will require more laboratory \n",
      "atomic data for \n",
      "elements that have not been well studied to improve the precision of \n",
      "the stellar and solar abundances. \n",
      "Additional experimental nuclear data,\n",
      "not yet available, \n",
      " for the heaviest neutron-rich nuclei \n",
      "that participate in the $r$-process,  \n",
      "will be critical to these studies. Until that time \n",
      "new, more physically based,\n",
      " theoretical prescriptions for nuclear masses, half-lives, etc.\\\n",
      "for these $r$-process nuclei will be necessary.\n",
      "New theoretical models of supernova explosions and detailed synthesis\n",
      "scenarios, such as might occur in the HEW, will be very important to help to\n",
      "identify the site or sites \n",
      "for the $r$-process, a search that has been ongoing since 1957.\n",
      "\n",
      "\n",
      "\\section{Acknowledgments}\n",
      "We thank our colleagues for all of their contributions and helpful\n",
      "discussions. We particularly are grateful for all of the \n",
      "contributions from George W.\\ Preston,  as he celebrates his\n",
      "80th birthday. Partial scientific support for this research was \n",
      "provided by the NSF (grants AST~07-07447 to J.J.C., AST~09-08978 to C.S.,\n",
      "and AST~09-07732 to J.E.L.).  \n",
      "I.U.R.\\ is supported by the Carnegie Institution of Washington\n",
      "through the Carnegie Observatories Fellowship.\n",
      "\n",
      "\n",
      "\n"
     ]
    }
   ],
   "source": [
    "print(dataset['train'][100]['text'])"
   ]
  },
  {
   "cell_type": "code",
   "execution_count": 9,
   "id": "9cc95632",
   "metadata": {
    "ExecuteTime": {
     "end_time": "2024-05-29T14:54:28.038937Z",
     "start_time": "2024-05-29T14:54:28.030804Z"
    }
   },
   "outputs": [],
   "source": [
    "import transformers\n",
    "from transformers import LlamaTokenizer, AutoTokenizer, AutoModelForCausalLM"
   ]
  },
  {
   "cell_type": "code",
   "execution_count": null,
   "id": "0e1ca44c",
   "metadata": {
    "ExecuteTime": {
     "end_time": "2024-05-29T14:44:32.752967Z",
     "start_time": "2024-05-29T14:43:33.538253Z"
    },
    "scrolled": true
   },
   "outputs": [],
   "source": [
    "tokenizer = AutoTokenizer.from_pretrained(model_path, padding_side=\"left\", padding=True, truncation=True)\n",
    "# pipeline = transformers.pipeline(\n",
    "#     \"text-generation\",\n",
    "#     model=model_path,\n",
    "#     tokenizer=tokenizer,\n",
    "#     torch_dtype=torch.float16,\n",
    "#     trust_remote_code=True,\n",
    "#     device_map=\"auto\",\n",
    "#     load_in_8bit=True,\n",
    "#     return_full_text=False\n",
    "# )\n",
    "\n",
    "model = AutoModelForCausalLM.from_pretrained(\n",
    "    model_path,\n",
    "    load_in_8bit=True,\n",
    "    device_map=\"auto\",\n",
    ")"
   ]
  },
  {
   "cell_type": "code",
   "execution_count": null,
   "id": "2d685ef1",
   "metadata": {
    "ExecuteTime": {
     "end_time": "2024-05-29T14:44:32.770579Z",
     "start_time": "2024-05-29T14:44:32.766361Z"
    }
   },
   "outputs": [],
   "source": [
    "# result = pipeline(['Suppose I go in the east direction, what'])\n",
    "# print(result[0])"
   ]
  },
  {
   "cell_type": "code",
   "execution_count": null,
   "id": "c220dcb2",
   "metadata": {
    "ExecuteTime": {
     "end_time": "2024-05-29T14:44:32.780104Z",
     "start_time": "2024-05-29T14:44:32.773951Z"
    }
   },
   "outputs": [],
   "source": [
    "dataset = dataset['train']"
   ]
  },
  {
   "cell_type": "code",
   "execution_count": null,
   "id": "fe55f524",
   "metadata": {
    "ExecuteTime": {
     "end_time": "2024-05-29T14:44:36.595544Z",
     "start_time": "2024-05-29T14:44:36.592066Z"
    }
   },
   "outputs": [],
   "source": [
    "from transformers import LlamaConfig"
   ]
  },
  {
   "cell_type": "code",
   "execution_count": null,
   "id": "22b02935",
   "metadata": {
    "ExecuteTime": {
     "end_time": "2024-05-29T14:44:37.053123Z",
     "start_time": "2024-05-29T14:44:37.048697Z"
    }
   },
   "outputs": [],
   "source": [
    "model_config = LlamaConfig.from_pretrained(model_path)"
   ]
  },
  {
   "cell_type": "code",
   "execution_count": null,
   "id": "0290d93d",
   "metadata": {
    "ExecuteTime": {
     "end_time": "2024-05-29T14:44:37.628467Z",
     "start_time": "2024-05-29T14:44:37.625491Z"
    }
   },
   "outputs": [],
   "source": [
    "from peft import LoraConfig"
   ]
  },
  {
   "cell_type": "code",
   "execution_count": null,
   "id": "823f4806",
   "metadata": {
    "ExecuteTime": {
     "end_time": "2024-05-29T14:44:38.046505Z",
     "start_time": "2024-05-29T14:44:38.039443Z"
    }
   },
   "outputs": [],
   "source": [
    "peft_config = LoraConfig(\n",
    "    r=16,\n",
    "    lora_alpha=32,\n",
    "    lora_dropout=0.05,\n",
    "    bias=\"none\",\n",
    "    task_type=\"CAUSAL_LM\",\n",
    ")"
   ]
  },
  {
   "cell_type": "code",
   "execution_count": null,
   "id": "30a3947a",
   "metadata": {
    "ExecuteTime": {
     "end_time": "2024-05-29T14:44:38.848228Z",
     "start_time": "2024-05-29T14:44:38.840055Z"
    }
   },
   "outputs": [],
   "source": [
    "model"
   ]
  },
  {
   "cell_type": "markdown",
   "id": "57b4545b",
   "metadata": {
    "ExecuteTime": {
     "end_time": "2024-05-29T12:46:34.301441Z",
     "start_time": "2024-05-29T12:46:34.288728Z"
    }
   },
   "source": [
    "<!-- parser = TrlParser((SFTScriptArguments, SFTConfig, ModelConfig))\n",
    "args, training_args, model_config = parser.parse_args_and_config() -->"
   ]
  },
  {
   "cell_type": "code",
   "execution_count": null,
   "id": "1c54871f",
   "metadata": {},
   "outputs": [],
   "source": []
  },
  {
   "cell_type": "code",
   "execution_count": null,
   "id": "e481db9b",
   "metadata": {},
   "outputs": [],
   "source": []
  },
  {
   "cell_type": "code",
   "execution_count": null,
   "id": "0320d086",
   "metadata": {},
   "outputs": [],
   "source": []
  },
  {
   "cell_type": "code",
   "execution_count": null,
   "id": "6ef42a2b",
   "metadata": {
    "ExecuteTime": {
     "end_time": "2024-05-29T14:38:13.968084Z",
     "start_time": "2024-05-29T14:38:13.962056Z"
    }
   },
   "outputs": [],
   "source": [
    "import os\n",
    "from dataclasses import dataclass, field\n",
    "from typing import Optional\n",
    "\n",
    "import torch\n",
    "from accelerate import Accelerator\n",
    "from datasets import load_dataset\n",
    "from peft import AutoPeftModelForCausalLM, LoraConfig\n",
    "from tqdm import tqdm\n",
    "from transformers import (\n",
    "    AutoModelForCausalLM,\n",
    "    AutoTokenizer,\n",
    "    BitsAndBytesConfig,\n",
    "    HfArgumentParser,\n",
    "    set_seed,\n",
    ")\n",
    "\n",
    "from trl import SFTTrainer"
   ]
  },
  {
   "cell_type": "code",
   "execution_count": null,
   "id": "6921f315",
   "metadata": {},
   "outputs": [],
   "source": []
  },
  {
   "cell_type": "code",
   "execution_count": null,
   "id": "eca7a612",
   "metadata": {},
   "outputs": [],
   "source": []
  },
  {
   "cell_type": "code",
   "execution_count": null,
   "id": "3f016800",
   "metadata": {
    "ExecuteTime": {
     "end_time": "2024-05-29T14:38:17.790139Z",
     "start_time": "2024-05-29T14:38:17.787510Z"
    }
   },
   "outputs": [],
   "source": [
    "output_dir=\"./lora_alpaca\""
   ]
  },
  {
   "cell_type": "code",
   "execution_count": null,
   "id": "557f5d0f",
   "metadata": {
    "ExecuteTime": {
     "end_time": "2024-05-29T14:12:28.052467Z",
     "start_time": "2024-05-29T14:12:28.035989Z"
    }
   },
   "outputs": [],
   "source": [
    "args = transformers.TrainingArguments(\n",
    "    per_device_train_batch_size=8,\n",
    "    gradient_accumulation_steps=8,\n",
    "    warmup_steps=10,\n",
    "    num_train_epochs=3,\n",
    "    learning_rate=3e-4,\n",
    "    fp16=True,\n",
    "    logging_steps=10,\n",
    "    logging_first_step=True,\n",
    "    optim=\"adamw_torch\",\n",
    "    evaluation_strategy=\"steps\",\n",
    "    save_strategy=\"steps\",\n",
    "    eval_steps=100,\n",
    "    save_steps=200,\n",
    "    output_dir=output_dir,\n",
    "    save_total_limit=20,\n",
    "    load_best_model_at_end=True,\n",
    "    ddp_find_unused_parameters=None,\n",
    "    group_by_length=False,\n",
    "    report_to=\"wandb\",\n",
    "    run_name=output_dir.split('/')[-1],\n",
    "    metric_for_best_model=\"{}_loss\".format(redpajama_datapath),\n",
    "        )\n",
    "\n",
    "# training_args = TrainingArguments(\n",
    "#         output_dir=args.output_dir,\n",
    "#         dataloader_drop_last=True,\n",
    "#         eval_strategy=\"steps\",\n",
    "#         max_steps=args.max_steps,\n",
    "#         eval_steps=args.eval_freq,\n",
    "#         save_steps=args.save_freq,\n",
    "#         logging_steps=args.log_freq,\n",
    "#         per_device_train_batch_size=args.batch_size,\n",
    "#         per_device_eval_batch_size=args.batch_size,\n",
    "#         learning_rate=args.learning_rate,\n",
    "#         lr_scheduler_type=args.lr_scheduler_type,\n",
    "#         warmup_steps=args.num_warmup_steps,\n",
    "#         gradient_accumulation_steps=args.gradient_accumulation_steps,\n",
    "#         gradient_checkpointing=args.gradient_checkpointing,\n",
    "#         fp16=args.fp16,\n",
    "#         bf16=args.bf16,\n",
    "#         weight_decay=args.weight_decay,\n",
    "#         run_name=\"llama-7b-finetuned\",\n",
    "#         report_to=\"wandb\",\n",
    "#         ddp_find_unused_parameters=False,\n",
    "#     )"
   ]
  },
  {
   "cell_type": "code",
   "execution_count": null,
   "id": "87e9f18a",
   "metadata": {
    "ExecuteTime": {
     "end_time": "2024-05-29T14:13:57.365346Z",
     "start_time": "2024-05-29T14:13:57.180793Z"
    },
    "scrolled": false
   },
   "outputs": [],
   "source": [
    "trainer = SFTTrainer(\n",
    "    model,\n",
    "    train_dataset=dataset,\n",
    "    dataset_text_field=\"text\",\n",
    "    max_seq_length=512,\n",
    "    args=args,\n",
    "    peft_config=peft_config,\n",
    "    packing=True,\n",
    ")\n"
   ]
  },
  {
   "cell_type": "code",
   "execution_count": null,
   "id": "9c414d68",
   "metadata": {
    "ExecuteTime": {
     "end_time": "2024-05-29T12:37:17.831020Z",
     "start_time": "2024-05-29T12:37:17.831003Z"
    }
   },
   "outputs": [],
   "source": [
    "trainer.train()"
   ]
  },
  {
   "cell_type": "code",
   "execution_count": null,
   "id": "b1182324",
   "metadata": {},
   "outputs": [],
   "source": []
  },
  {
   "cell_type": "code",
   "execution_count": null,
   "id": "0abfdce9",
   "metadata": {},
   "outputs": [],
   "source": []
  },
  {
   "cell_type": "markdown",
   "id": "1deaac15",
   "metadata": {},
   "source": [
    "# Code"
   ]
  },
  {
   "cell_type": "code",
   "execution_count": 10,
   "id": "4d6c8c04",
   "metadata": {
    "ExecuteTime": {
     "end_time": "2024-05-29T14:54:34.781926Z",
     "start_time": "2024-05-29T14:54:34.769478Z"
    }
   },
   "outputs": [],
   "source": [
    "from peft import LoraConfig\n",
    "from transformers import BitsAndBytesConfig\n",
    "\n",
    "loraConfig = LoraConfig(\n",
    "    r = 8,\n",
    "    target_modules=[\"q_proj\", \"o_proj\", \"k_proj\", \"v_proj\", \"gate_proj\", \"up_proj\", \"down_proj\"],\n",
    "    task_type=\"CAUSAL_LM\"\n",
    ")\n",
    "\n",
    "bnb_config = BitsAndBytesConfig(\n",
    "    load_in_4bit=True,\n",
    "    bnb_4bit_quant_type=\"nf4\",\n",
    "    bnb_4bit_compute_dtype=torch.bfloat16\n",
    ")"
   ]
  },
  {
   "cell_type": "code",
   "execution_count": 11,
   "id": "f183d785",
   "metadata": {
    "ExecuteTime": {
     "end_time": "2024-05-29T14:55:00.758060Z",
     "start_time": "2024-05-29T14:54:36.110469Z"
    }
   },
   "outputs": [
    {
     "data": {
      "application/vnd.jupyter.widget-view+json": {
       "model_id": "271b0e780f134877825f1afb5472d28c",
       "version_major": 2,
       "version_minor": 0
      },
      "text/plain": [
       "Loading checkpoint shards:   0%|          | 0/3 [00:00<?, ?it/s]"
      ]
     },
     "metadata": {},
     "output_type": "display_data"
    },
    {
     "name": "stderr",
     "output_type": "stream",
     "text": [
      "/data/home/milinbhade/miniconda3/envs/huggingface/lib/python3.9/site-packages/torch/_utils.py:776: UserWarning: TypedStorage is deprecated. It will be removed in the future and UntypedStorage will be the only storage class. This should only matter to you if you are using storages directly.  To access UntypedStorage directly, use tensor.untyped_storage() instead of tensor.storage()\n",
      "  return self.fget.__get__(instance, owner)()\n",
      "You are calling `save_pretrained` to a 4-bit converted model, but your `bitsandbytes` version doesn't support it. If you want to save 4-bit models, make sure to have `bitsandbytes>=0.41.3` installed.\n"
     ]
    }
   ],
   "source": [
    "import torch\n",
    "from transformers import AutoTokenizer, AutoModelForCausalLM\n",
    "\n",
    "\n",
    "tokenizer = AutoTokenizer.from_pretrained(model_path)\n",
    "model = AutoModelForCausalLM.from_pretrained(model_path, quantization_config=bnb_config, device_map=\"auto\")"
   ]
  },
  {
   "cell_type": "code",
   "execution_count": 12,
   "id": "37133bf7",
   "metadata": {
    "ExecuteTime": {
     "end_time": "2024-05-29T14:55:13.382672Z",
     "start_time": "2024-05-29T14:55:13.375460Z"
    }
   },
   "outputs": [],
   "source": [
    "from transformers import TrainingArguments\n",
    "\n",
    "trainArgs = TrainingArguments(\n",
    "    report_to=\"wandb\",\n",
    "    output_dir=\"devfiles/results/run2\",\n",
    "    per_device_train_batch_size=4,\n",
    "    gradient_accumulation_steps=4,\n",
    "    optim=\"paged_adamw_32bit\",\n",
    "    save_steps=5,\n",
    "    logging_steps=1,\n",
    "    learning_rate=2e-4,\n",
    "    max_grad_norm=0.3,\n",
    "    max_steps=25,\n",
    "    warmup_ratio=0.03,\n",
    "    lr_scheduler_type=\"constant\",\n",
    "    gradient_checkpointing=True,\n",
    "    fp16=False,\n",
    "    bf16=False)"
   ]
  },
  {
   "cell_type": "code",
   "execution_count": 13,
   "id": "f7eb8b18",
   "metadata": {
    "ExecuteTime": {
     "end_time": "2024-05-29T14:55:17.244448Z",
     "start_time": "2024-05-29T14:55:15.986879Z"
    }
   },
   "outputs": [
    {
     "name": "stderr",
     "output_type": "stream",
     "text": [
      "/data/home/milinbhade/miniconda3/envs/huggingface/lib/python3.9/site-packages/huggingface_hub/utils/_deprecation.py:100: FutureWarning: Deprecated argument(s) used in '__init__': packing, dataset_text_field. Will not be supported from version '1.0.0'.\n",
      "\n",
      "Deprecated positional argument(s) used in SFTTrainer, please use the SFTConfig to set these arguments instead.\n",
      "  warnings.warn(message, FutureWarning)\n"
     ]
    },
    {
     "ename": "AttributeError",
     "evalue": "'TrainingArguments' object has no attribute 'model_init_kwargs'",
     "output_type": "error",
     "traceback": [
      "\u001b[0;31m---------------------------------------------------------------------------\u001b[0m",
      "\u001b[0;31mAttributeError\u001b[0m                            Traceback (most recent call last)",
      "Cell \u001b[0;32mIn[13], line 3\u001b[0m\n\u001b[1;32m      1\u001b[0m \u001b[38;5;28;01mfrom\u001b[39;00m \u001b[38;5;21;01mtrl\u001b[39;00m \u001b[38;5;28;01mimport\u001b[39;00m SFTTrainer\n\u001b[0;32m----> 3\u001b[0m trainer \u001b[38;5;241m=\u001b[39m \u001b[43mSFTTrainer\u001b[49m\u001b[43m(\u001b[49m\n\u001b[1;32m      4\u001b[0m \u001b[43m    \u001b[49m\u001b[43mmodel\u001b[49m\u001b[43m \u001b[49m\u001b[38;5;241;43m=\u001b[39;49m\u001b[43m \u001b[49m\u001b[43mmodel\u001b[49m\u001b[43m,\u001b[49m\n\u001b[1;32m      5\u001b[0m \u001b[43m    \u001b[49m\u001b[43margs\u001b[49m\u001b[43m \u001b[49m\u001b[38;5;241;43m=\u001b[39;49m\u001b[43m \u001b[49m\u001b[43mtrainArgs\u001b[49m\u001b[43m,\u001b[49m\n\u001b[1;32m      6\u001b[0m \u001b[43m    \u001b[49m\u001b[43mtrain_dataset\u001b[49m\u001b[43m \u001b[49m\u001b[38;5;241;43m=\u001b[39;49m\u001b[43m \u001b[49m\u001b[43mdataset\u001b[49m\u001b[43m[\u001b[49m\u001b[38;5;124;43m'\u001b[39;49m\u001b[38;5;124;43mtrain\u001b[39;49m\u001b[38;5;124;43m'\u001b[39;49m\u001b[43m]\u001b[49m\u001b[43m,\u001b[49m\n\u001b[1;32m      7\u001b[0m \u001b[43m    \u001b[49m\u001b[43mpeft_config\u001b[49m\u001b[43m \u001b[49m\u001b[38;5;241;43m=\u001b[39;49m\u001b[43m \u001b[49m\u001b[43mloraConfig\u001b[49m\u001b[43m,\u001b[49m\n\u001b[1;32m      8\u001b[0m \u001b[43m    \u001b[49m\u001b[43mpacking\u001b[49m\u001b[43m \u001b[49m\u001b[38;5;241;43m=\u001b[39;49m\u001b[43m \u001b[49m\u001b[38;5;28;43;01mTrue\u001b[39;49;00m\u001b[43m,\u001b[49m\n\u001b[1;32m      9\u001b[0m \u001b[43m    \u001b[49m\u001b[43mdataset_text_field\u001b[49m\u001b[43m \u001b[49m\u001b[38;5;241;43m=\u001b[39;49m\u001b[43m \u001b[49m\u001b[38;5;124;43m\"\u001b[39;49m\u001b[38;5;124;43mtext\u001b[39;49m\u001b[38;5;124;43m\"\u001b[39;49m\u001b[43m,\u001b[49m\n\u001b[1;32m     10\u001b[0m \u001b[43m    \u001b[49m\u001b[43mtokenizer\u001b[49m\u001b[43m \u001b[49m\u001b[38;5;241;43m=\u001b[39;49m\u001b[43m \u001b[49m\u001b[43mtokenizer\u001b[49m\n\u001b[1;32m     11\u001b[0m \u001b[43m)\u001b[49m\n",
      "File \u001b[0;32m~/miniconda3/envs/huggingface/lib/python3.9/site-packages/huggingface_hub/utils/_deprecation.py:101\u001b[0m, in \u001b[0;36m_deprecate_arguments.<locals>._inner_deprecate_positional_args.<locals>.inner_f\u001b[0;34m(*args, **kwargs)\u001b[0m\n\u001b[1;32m     99\u001b[0m         message \u001b[38;5;241m+\u001b[39m\u001b[38;5;241m=\u001b[39m \u001b[38;5;124m\"\u001b[39m\u001b[38;5;130;01m\\n\u001b[39;00m\u001b[38;5;130;01m\\n\u001b[39;00m\u001b[38;5;124m\"\u001b[39m \u001b[38;5;241m+\u001b[39m custom_message\n\u001b[1;32m    100\u001b[0m     warnings\u001b[38;5;241m.\u001b[39mwarn(message, \u001b[38;5;167;01mFutureWarning\u001b[39;00m)\n\u001b[0;32m--> 101\u001b[0m \u001b[38;5;28;01mreturn\u001b[39;00m \u001b[43mf\u001b[49m\u001b[43m(\u001b[49m\u001b[38;5;241;43m*\u001b[39;49m\u001b[43margs\u001b[49m\u001b[43m,\u001b[49m\u001b[43m \u001b[49m\u001b[38;5;241;43m*\u001b[39;49m\u001b[38;5;241;43m*\u001b[39;49m\u001b[43mkwargs\u001b[49m\u001b[43m)\u001b[49m\n",
      "File \u001b[0;32m~/miniconda3/envs/huggingface/lib/python3.9/site-packages/trl/trainer/sft_trainer.py:149\u001b[0m, in \u001b[0;36mSFTTrainer.__init__\u001b[0;34m(self, model, args, data_collator, train_dataset, eval_dataset, tokenizer, model_init, compute_metrics, callbacks, optimizers, preprocess_logits_for_metrics, peft_config, dataset_text_field, packing, formatting_func, max_seq_length, infinite, num_of_sequences, chars_per_token, dataset_num_proc, dataset_batch_size, neftune_noise_alpha, model_init_kwargs, dataset_kwargs, eval_packing)\u001b[0m\n\u001b[1;32m    145\u001b[0m     warnings\u001b[38;5;241m.\u001b[39mwarn(\n\u001b[1;32m    146\u001b[0m         \u001b[38;5;124m\"\u001b[39m\u001b[38;5;124mYou passed `model_init_kwargs` to the SFTTrainer, the value you passed will override the one in the `SFTConfig`.\u001b[39m\u001b[38;5;124m\"\u001b[39m\n\u001b[1;32m    147\u001b[0m     )\n\u001b[1;32m    148\u001b[0m     args\u001b[38;5;241m.\u001b[39mmodel_init_kwargs \u001b[38;5;241m=\u001b[39m model_init_kwargs\n\u001b[0;32m--> 149\u001b[0m \u001b[38;5;28;01mif\u001b[39;00m \u001b[43margs\u001b[49m\u001b[38;5;241;43m.\u001b[39;49m\u001b[43mmodel_init_kwargs\u001b[49m \u001b[38;5;129;01mis\u001b[39;00m \u001b[38;5;28;01mNone\u001b[39;00m:\n\u001b[1;32m    150\u001b[0m     model_init_kwargs \u001b[38;5;241m=\u001b[39m {}\n\u001b[1;32m    151\u001b[0m \u001b[38;5;28;01melif\u001b[39;00m \u001b[38;5;129;01mnot\u001b[39;00m \u001b[38;5;28misinstance\u001b[39m(model, \u001b[38;5;28mstr\u001b[39m):\n",
      "\u001b[0;31mAttributeError\u001b[0m: 'TrainingArguments' object has no attribute 'model_init_kwargs'"
     ]
    }
   ],
   "source": [
    "from trl import SFTTrainer\n",
    "\n",
    "trainer = SFTTrainer(\n",
    "    model = model,\n",
    "    args = trainArgs,\n",
    "    train_dataset = dataset['train'],\n",
    "    peft_config = loraConfig,\n",
    "    packing = True,\n",
    "    dataset_text_field = \"text\",\n",
    "    tokenizer = tokenizer\n",
    ")\n"
   ]
  },
  {
   "cell_type": "code",
   "execution_count": null,
   "id": "cbd35213",
   "metadata": {},
   "outputs": [],
   "source": [
    "trainer.train()"
   ]
  }
 ],
 "metadata": {
  "kernelspec": {
   "display_name": "huggingface",
   "language": "python",
   "name": "huggingface"
  },
  "language_info": {
   "codemirror_mode": {
    "name": "ipython",
    "version": 3
   },
   "file_extension": ".py",
   "mimetype": "text/x-python",
   "name": "python",
   "nbconvert_exporter": "python",
   "pygments_lexer": "ipython3",
   "version": "3.9.18"
  },
  "toc": {
   "base_numbering": 1,
   "nav_menu": {},
   "number_sections": true,
   "sideBar": true,
   "skip_h1_title": false,
   "title_cell": "Table of Contents",
   "title_sidebar": "Contents",
   "toc_cell": false,
   "toc_position": {
    "height": "calc(100% - 180px)",
    "left": "10px",
    "top": "150px",
    "width": "614.4px"
   },
   "toc_section_display": true,
   "toc_window_display": true
  }
 },
 "nbformat": 4,
 "nbformat_minor": 5
}
